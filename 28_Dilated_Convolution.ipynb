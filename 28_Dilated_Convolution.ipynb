{
  "nbformat": 4,
  "nbformat_minor": 0,
  "metadata": {
    "colab": {
      "name": "28. Dilated Convolution",
      "provenance": [],
      "collapsed_sections": [],
      "include_colab_link": true
    },
    "kernelspec": {
      "name": "python3",
      "display_name": "Python 3"
    }
  },
  "cells": [
    {
      "cell_type": "markdown",
      "metadata": {
        "id": "view-in-github",
        "colab_type": "text"
      },
      "source": [
        "<a href=\"https://colab.research.google.com/github/SmirnovKol/8cc/blob/master/28_Dilated_Convolution.ipynb\" target=\"_parent\"><img src=\"https://colab.research.google.com/assets/colab-badge.svg\" alt=\"Open In Colab\"/></a>"
      ]
    },
    {
      "cell_type": "code",
      "metadata": {
        "id": "gLzTnf2OhDcc"
      },
      "source": [
        "import tensorflow as tf\r\n",
        "import numpy as np,sys\r\n",
        "from  scipy.signal import convolve2d"
      ],
      "execution_count": 1,
      "outputs": []
    },
    {
      "cell_type": "code",
      "metadata": {
        "id": "EujOB5_-hTfS"
      },
      "source": [
        "np.random.seed(678)\r\n",
        "#tf.set_random_seed(6789)\r\n",
        "#sess = tf.Session()"
      ],
      "execution_count": 2,
      "outputs": []
    },
    {
      "cell_type": "code",
      "metadata": {
        "id": "I6zQqwZmhm4K"
      },
      "source": [
        "# ========== Experiment Set Up ===========\r\n",
        "# 0. Create a matrix we want to perform experiments\r\n",
        "mat_size = 10\r\n",
        "matrix = np.zeros((mat_size,mat_size)).astype(np.float32) \r\n",
        "\r\n",
        "for x in range(4,7):\r\n",
        "    for y in range(3,6):\r\n",
        "        matrix[y,x] = 1"
      ],
      "execution_count": 3,
      "outputs": []
    },
    {
      "cell_type": "code",
      "metadata": {
        "id": "I0GitGMPh45f",
        "outputId": "9f471706-bbe3-455b-d277-24e1150e33f0",
        "colab": {
          "base_uri": "https://localhost:8080/"
        }
      },
      "source": [
        "matrix"
      ],
      "execution_count": 4,
      "outputs": [
        {
          "output_type": "execute_result",
          "data": {
            "text/plain": [
              "array([[0., 0., 0., 0., 0., 0., 0., 0., 0., 0.],\n",
              "       [0., 0., 0., 0., 0., 0., 0., 0., 0., 0.],\n",
              "       [0., 0., 0., 0., 0., 0., 0., 0., 0., 0.],\n",
              "       [0., 0., 0., 0., 1., 1., 1., 0., 0., 0.],\n",
              "       [0., 0., 0., 0., 1., 1., 1., 0., 0., 0.],\n",
              "       [0., 0., 0., 0., 1., 1., 1., 0., 0., 0.],\n",
              "       [0., 0., 0., 0., 0., 0., 0., 0., 0., 0.],\n",
              "       [0., 0., 0., 0., 0., 0., 0., 0., 0., 0.],\n",
              "       [0., 0., 0., 0., 0., 0., 0., 0., 0., 0.],\n",
              "       [0., 0., 0., 0., 0., 0., 0., 0., 0., 0.]], dtype=float32)"
            ]
          },
          "metadata": {
            "tags": []
          },
          "execution_count": 4
        }
      ]
    },
    {
      "cell_type": "code",
      "metadata": {
        "id": "425KIbd0iAP9",
        "outputId": "ebf91b42-2ff7-4a27-9dfd-51691cf4cf74",
        "colab": {
          "base_uri": "https://localhost:8080/"
        }
      },
      "source": [
        "# 1. Create a Kernel \r\n",
        "kernel = np.array([\r\n",
        "    [1,2,3],\r\n",
        "    [4,5,6],\r\n",
        "    [7,8,9]\r\n",
        "]).astype(np.float32) \r\n",
        "print(\"====== Original Set Up ======\")\r\n",
        "print(\"Matrix Shape : \",matrix.shape)\r\n",
        "print(matrix)\r\n",
        "print(\"kernel Shape : \",kernel.shape)\r\n",
        "print(kernel)"
      ],
      "execution_count": 5,
      "outputs": [
        {
          "output_type": "stream",
          "text": [
            "====== Original Set Up ======\n",
            "Matrix Shape :  (10, 10)\n",
            "[[0. 0. 0. 0. 0. 0. 0. 0. 0. 0.]\n",
            " [0. 0. 0. 0. 0. 0. 0. 0. 0. 0.]\n",
            " [0. 0. 0. 0. 0. 0. 0. 0. 0. 0.]\n",
            " [0. 0. 0. 0. 1. 1. 1. 0. 0. 0.]\n",
            " [0. 0. 0. 0. 1. 1. 1. 0. 0. 0.]\n",
            " [0. 0. 0. 0. 1. 1. 1. 0. 0. 0.]\n",
            " [0. 0. 0. 0. 0. 0. 0. 0. 0. 0.]\n",
            " [0. 0. 0. 0. 0. 0. 0. 0. 0. 0.]\n",
            " [0. 0. 0. 0. 0. 0. 0. 0. 0. 0.]\n",
            " [0. 0. 0. 0. 0. 0. 0. 0. 0. 0.]]\n",
            "kernel Shape :  (3, 3)\n",
            "[[1. 2. 3.]\n",
            " [4. 5. 6.]\n",
            " [7. 8. 9.]]\n"
          ],
          "name": "stdout"
        }
      ]
    },
    {
      "cell_type": "code",
      "metadata": {
        "id": "boGhU83ii6gd",
        "outputId": "7c88fb6e-924f-4420-969f-7138060e4792",
        "colab": {
          "base_uri": "https://localhost:8080/"
        }
      },
      "source": [
        "\r\n",
        "# ========== Experiment Set Up ===========\r\n",
        "\r\n",
        "# ========== EXAMPLE 1 - Dilation Factor 1 ===========\r\n",
        "print(\"\\n====== Dilated Kernel 1 ======\")\r\n",
        "print('Kernal For \"Familiar\" Convolution for Numpy: \\n',kernel)\r\n",
        "\r\n",
        "print(\"========== Numpy 'familiar' Convolution Results ===============\")\r\n",
        "np_results = convolve2d(matrix,kernel,mode='valid')\r\n",
        "print(\"Numpy Results Shape: \",np_results.shape)\r\n",
        "print(np_results)"
      ],
      "execution_count": 6,
      "outputs": [
        {
          "output_type": "stream",
          "text": [
            "\n",
            "====== Dilated Kernel 1 ======\n",
            "Kernal For \"Familiar\" Convolution for Numpy: \n",
            " [[1. 2. 3.]\n",
            " [4. 5. 6.]\n",
            " [7. 8. 9.]]\n",
            "========== Numpy 'familiar' Convolution Results ===============\n",
            "Numpy Results Shape:  (8, 8)\n",
            "[[ 0.  0.  0.  0.  0.  0.  0.  0.]\n",
            " [ 0.  0.  1.  3.  6.  5.  3.  0.]\n",
            " [ 0.  0.  5. 12. 21. 16.  9.  0.]\n",
            " [ 0.  0. 12. 27. 45. 33. 18.  0.]\n",
            " [ 0.  0. 11. 24. 39. 28. 15.  0.]\n",
            " [ 0.  0.  7. 15. 24. 17.  9.  0.]\n",
            " [ 0.  0.  0.  0.  0.  0.  0.  0.]\n",
            " [ 0.  0.  0.  0.  0.  0.  0.  0.]]\n"
          ],
          "name": "stdout"
        }
      ]
    },
    {
      "cell_type": "code",
      "metadata": {
        "id": "nad8KcN1ksnj"
      },
      "source": [
        "np.newaxis"
      ],
      "execution_count": 7,
      "outputs": []
    },
    {
      "cell_type": "code",
      "metadata": {
        "id": "gd8n2XeXkv25"
      },
      "source": [
        "None"
      ],
      "execution_count": 8,
      "outputs": []
    },
    {
      "cell_type": "code",
      "metadata": {
        "id": "i8cHZgcokxrf",
        "outputId": "d7bdb1e5-2320-4e62-8d9a-18c30d4b97c8",
        "colab": {
          "base_uri": "https://localhost:8080/"
        }
      },
      "source": [
        "np.newaxis is None"
      ],
      "execution_count": 9,
      "outputs": [
        {
          "output_type": "execute_result",
          "data": {
            "text/plain": [
              "True"
            ]
          },
          "metadata": {
            "tags": []
          },
          "execution_count": 9
        }
      ]
    },
    {
      "cell_type": "code",
      "metadata": {
        "id": "jRTnuziQjLlx",
        "outputId": "5148c874-5113-43c1-a52d-7a10b708d5bc",
        "colab": {
          "base_uri": "https://localhost:8080/"
        }
      },
      "source": [
        "print(\"========== Tensorfow Conv2D Results ===============\")\r\n",
        "tf_result_1_1 = tf.nn.conv2d(np.expand_dims(np.expand_dims(matrix,axis=0),axis=3),\r\n",
        "                            np.expand_dims(np.expand_dims(np.rot90(kernel,2),axis=2),axis=3),\r\n",
        "                            strides=[1,1,1,1],padding=\"VALID\",\r\n",
        "                            dilations=[1,1,1,1])"
      ],
      "execution_count": 10,
      "outputs": [
        {
          "output_type": "stream",
          "text": [
            "========== Tensorfow Conv2D Results ===============\n"
          ],
          "name": "stdout"
        }
      ]
    },
    {
      "cell_type": "code",
      "metadata": {
        "id": "pS6gnhcS0Ake",
        "outputId": "d13725e2-6045-4473-b1e1-570fb4100450",
        "colab": {
          "base_uri": "https://localhost:8080/"
        }
      },
      "source": [
        "np.expand_dims(np.expand_dims(matrix,axis=0),axis=3).shape"
      ],
      "execution_count": 11,
      "outputs": [
        {
          "output_type": "execute_result",
          "data": {
            "text/plain": [
              "(1, 10, 10, 1)"
            ]
          },
          "metadata": {
            "tags": []
          },
          "execution_count": 11
        }
      ]
    },
    {
      "cell_type": "code",
      "metadata": {
        "id": "3dbVm5cZzh6e",
        "outputId": "cb3e727e-81c8-4bfb-a2a6-bf66cf7caf7f",
        "colab": {
          "base_uri": "https://localhost:8080/"
        }
      },
      "source": [
        "np.expand_dims(np.expand_dims(np.rot90(kernel,2),axis=2),axis=3).shape"
      ],
      "execution_count": 12,
      "outputs": [
        {
          "output_type": "execute_result",
          "data": {
            "text/plain": [
              "(3, 3, 1, 1)"
            ]
          },
          "metadata": {
            "tags": []
          },
          "execution_count": 12
        }
      ]
    },
    {
      "cell_type": "code",
      "metadata": {
        "id": "_ac4XB45zJiS",
        "outputId": "a7032679-939a-491a-e0a2-693397925736",
        "colab": {
          "base_uri": "https://localhost:8080/"
        }
      },
      "source": [
        "kernel"
      ],
      "execution_count": 13,
      "outputs": [
        {
          "output_type": "execute_result",
          "data": {
            "text/plain": [
              "array([[1., 2., 3.],\n",
              "       [4., 5., 6.],\n",
              "       [7., 8., 9.]], dtype=float32)"
            ]
          },
          "metadata": {
            "tags": []
          },
          "execution_count": 13
        }
      ]
    },
    {
      "cell_type": "code",
      "metadata": {
        "id": "kT-mRLX2zMJk",
        "outputId": "22f349a7-31eb-4271-a7c2-4e0ca03099d1",
        "colab": {
          "base_uri": "https://localhost:8080/"
        }
      },
      "source": [
        "np.rot90(kernel, 1)"
      ],
      "execution_count": 14,
      "outputs": [
        {
          "output_type": "execute_result",
          "data": {
            "text/plain": [
              "array([[3., 6., 9.],\n",
              "       [2., 5., 8.],\n",
              "       [1., 4., 7.]], dtype=float32)"
            ]
          },
          "metadata": {
            "tags": []
          },
          "execution_count": 14
        }
      ]
    },
    {
      "cell_type": "code",
      "metadata": {
        "id": "Lq8YWcplzGsI",
        "outputId": "10fd34ad-322e-4301-8c97-7577f757ee34",
        "colab": {
          "base_uri": "https://localhost:8080/"
        }
      },
      "source": [
        "np.rot90(kernel,2)"
      ],
      "execution_count": 15,
      "outputs": [
        {
          "output_type": "execute_result",
          "data": {
            "text/plain": [
              "array([[9., 8., 7.],\n",
              "       [6., 5., 4.],\n",
              "       [3., 2., 1.]], dtype=float32)"
            ]
          },
          "metadata": {
            "tags": []
          },
          "execution_count": 15
        }
      ]
    },
    {
      "cell_type": "code",
      "metadata": {
        "id": "gCWe1I9nx_Ut",
        "outputId": "84f42acb-b0ea-4b85-9c7a-bdf35056a3f7",
        "colab": {
          "base_uri": "https://localhost:8080/"
        }
      },
      "source": [
        "m = np.arange(24).reshape((2,3,4))\r\n",
        "m\r\n"
      ],
      "execution_count": 16,
      "outputs": [
        {
          "output_type": "execute_result",
          "data": {
            "text/plain": [
              "array([[[ 0,  1,  2,  3],\n",
              "        [ 4,  5,  6,  7],\n",
              "        [ 8,  9, 10, 11]],\n",
              "\n",
              "       [[12, 13, 14, 15],\n",
              "        [16, 17, 18, 19],\n",
              "        [20, 21, 22, 23]]])"
            ]
          },
          "metadata": {
            "tags": []
          },
          "execution_count": 16
        }
      ]
    },
    {
      "cell_type": "code",
      "metadata": {
        "id": "MMFUF8XFyFmZ",
        "outputId": "42ad06ba-1d3d-4ab2-af0e-17a43de2dc3d",
        "colab": {
          "base_uri": "https://localhost:8080/"
        }
      },
      "source": [
        "np.rot90(m, 1, (0,2))"
      ],
      "execution_count": 17,
      "outputs": [
        {
          "output_type": "execute_result",
          "data": {
            "text/plain": [
              "array([[[ 3, 15],\n",
              "        [ 7, 19],\n",
              "        [11, 23]],\n",
              "\n",
              "       [[ 2, 14],\n",
              "        [ 6, 18],\n",
              "        [10, 22]],\n",
              "\n",
              "       [[ 1, 13],\n",
              "        [ 5, 17],\n",
              "        [ 9, 21]],\n",
              "\n",
              "       [[ 0, 12],\n",
              "        [ 4, 16],\n",
              "        [ 8, 20]]])"
            ]
          },
          "metadata": {
            "tags": []
          },
          "execution_count": 17
        }
      ]
    },
    {
      "cell_type": "code",
      "metadata": {
        "id": "5gtzJjGIlEGI",
        "outputId": "ca438bb8-6871-441b-ea5b-0fb6db2994df",
        "colab": {
          "base_uri": "https://localhost:8080/"
        }
      },
      "source": [
        "tf_result_1_1.shape"
      ],
      "execution_count": 18,
      "outputs": [
        {
          "output_type": "execute_result",
          "data": {
            "text/plain": [
              "TensorShape([1, 8, 8, 1])"
            ]
          },
          "metadata": {
            "tags": []
          },
          "execution_count": 18
        }
      ]
    },
    {
      "cell_type": "code",
      "metadata": {
        "id": "t_xFRmmrnFmm",
        "outputId": "ee8271f0-db6a-43d3-e71f-fbb1ee5aa799",
        "colab": {
          "base_uri": "https://localhost:8080/"
        }
      },
      "source": [
        "np.all([20, 0,  3], axis=0)"
      ],
      "execution_count": 19,
      "outputs": [
        {
          "output_type": "execute_result",
          "data": {
            "text/plain": [
              "False"
            ]
          },
          "metadata": {
            "tags": []
          },
          "execution_count": 19
        }
      ]
    },
    {
      "cell_type": "code",
      "metadata": {
        "id": "Ps3NFdg-qpOp"
      },
      "source": [
        "a111 = np.arange(24).reshape((2, 3, 4))"
      ],
      "execution_count": 20,
      "outputs": []
    },
    {
      "cell_type": "code",
      "metadata": {
        "id": "aiBbwUfFrCDe"
      },
      "source": [
        "a111[1][1][2] = 0"
      ],
      "execution_count": 21,
      "outputs": []
    },
    {
      "cell_type": "code",
      "metadata": {
        "id": "SObbADrSrsvF",
        "outputId": "183f23e2-e89c-44f7-91e7-a3c231a71ca8",
        "colab": {
          "base_uri": "https://localhost:8080/"
        }
      },
      "source": [
        "a111"
      ],
      "execution_count": 22,
      "outputs": [
        {
          "output_type": "execute_result",
          "data": {
            "text/plain": [
              "array([[[ 0,  1,  2,  3],\n",
              "        [ 4,  5,  6,  7],\n",
              "        [ 8,  9, 10, 11]],\n",
              "\n",
              "       [[12, 13, 14, 15],\n",
              "        [16, 17,  0, 19],\n",
              "        [20, 21, 22, 23]]])"
            ]
          },
          "metadata": {
            "tags": []
          },
          "execution_count": 22
        }
      ]
    },
    {
      "cell_type": "code",
      "metadata": {
        "id": "3WceB2J-rFcm",
        "outputId": "25a6b203-a4eb-4e35-9c38-2195b074f464",
        "colab": {
          "base_uri": "https://localhost:8080/"
        }
      },
      "source": [
        "np.all(a111, axis=2, keepdims=True)"
      ],
      "execution_count": 23,
      "outputs": [
        {
          "output_type": "execute_result",
          "data": {
            "text/plain": [
              "array([[[False],\n",
              "        [ True],\n",
              "        [ True]],\n",
              "\n",
              "       [[ True],\n",
              "        [False],\n",
              "        [ True]]])"
            ]
          },
          "metadata": {
            "tags": []
          },
          "execution_count": 23
        }
      ]
    },
    {
      "cell_type": "code",
      "metadata": {
        "id": "E5hnekMYp-8_",
        "outputId": "e2e741da-426a-437c-c2b4-3685eb27af6b",
        "colab": {
          "base_uri": "https://localhost:8080/"
        }
      },
      "source": [
        "np.all([\r\n",
        "  [0, 2, 3, 7],\r\n",
        "  [23, 5, 0, 11]\r\n",
        "], axis=0)"
      ],
      "execution_count": 24,
      "outputs": [
        {
          "output_type": "execute_result",
          "data": {
            "text/plain": [
              "array([False,  True, False,  True])"
            ]
          },
          "metadata": {
            "tags": []
          },
          "execution_count": 24
        }
      ]
    },
    {
      "cell_type": "code",
      "metadata": {
        "id": "OBo1V6kYlO3k",
        "outputId": "eb59c364-a8bb-4da6-fb6c-4df91eb0a5a1",
        "colab": {
          "base_uri": "https://localhost:8080/"
        }
      },
      "source": [
        "np.all(np.squeeze(tf_result_1_1) == np_results)"
      ],
      "execution_count": 25,
      "outputs": [
        {
          "output_type": "execute_result",
          "data": {
            "text/plain": [
              "True"
            ]
          },
          "metadata": {
            "tags": []
          },
          "execution_count": 25
        }
      ]
    },
    {
      "cell_type": "code",
      "metadata": {
        "id": "m0bYqsviASMJ",
        "outputId": "f1fe0d18-506d-4716-ce94-bb1bbc40ef72",
        "colab": {
          "base_uri": "https://localhost:8080/"
        }
      },
      "source": [
        "\"\"\"\r\n",
        "tf_result = sess.run(tf_opreation1_1)\r\n",
        "print(\"Tensorfow Conv2D Results Shape: \",tf_result.shape)\r\n",
        "print(np.squeeze(tf_result))\r\n",
        "\"\"\"\r\n",
        "# print(\"========== Tensorfow Atrous Conv2D Results ===============\")\r\n",
        "# tf_opreation1_2 = tf.nn.atrous_conv2d(np.expand_dims(np.expand_dims(matrix,axis=0),axis=3),\r\n",
        "#                                     np.expand_dims(np.expand_dims(np.rot90(kernel,2),axis=3),axis=4),\r\n",
        "#                                     rate=1,padding=\"VALID\")\r\n",
        "# tf_result = sess.run(tf_opreation1_2)\r\n",
        "# print(\"Tensorfow Atrous Results Shape: \",tf_result.shape)\r\n",
        "# print(np.squeeze(tf_result))\r\n",
        "# ========== EXAMPLE 1 - Dilation Factor 1 ===========\r\n",
        "\r\n",
        "\r\n",
        "\r\n",
        "\r\n",
        "# ========== EXAMPLE 2 - Dilation Factor 2 ===========\r\n",
        "print(\"\\n====== Dilated Kernel 2 ======\")\r\n",
        "kernel2 = np.array([\r\n",
        "    [1,0,2,0,3],\r\n",
        "    [0,0,0,0,0],\r\n",
        "    [4,0,5,0,6],\r\n",
        "    [0,0,0,0,0],\r\n",
        "    [7,0,8,0,9]\r\n",
        "])\r\n",
        "print('Kernal For \"Familiar\" Convolution for Numpy: \\n',kernel2)\r\n",
        "\r\n",
        "print(\"========== Numpy 'familiar' Convolution Results ===============\")\r\n",
        "np_results = convolve2d(matrix,kernel2,mode='valid')\r\n",
        "print(\"Numpy Results Shape: \",np_results.shape)\r\n",
        "print(np_results)"
      ],
      "execution_count": 26,
      "outputs": [
        {
          "output_type": "stream",
          "text": [
            "\n",
            "====== Dilated Kernel 2 ======\n",
            "Kernal For \"Familiar\" Convolution for Numpy: \n",
            " [[1 0 2 0 3]\n",
            " [0 0 0 0 0]\n",
            " [4 0 5 0 6]\n",
            " [0 0 0 0 0]\n",
            " [7 0 8 0 9]]\n",
            "========== Numpy 'familiar' Convolution Results ===============\n",
            "Numpy Results Shape:  (6, 6)\n",
            "[[ 1.  1.  3.  2.  5.  3.]\n",
            " [ 5.  5. 12.  7. 16.  9.]\n",
            " [ 4.  4.  9.  5. 11.  6.]\n",
            " [11. 11. 24. 13. 28. 15.]\n",
            " [ 7.  7. 15.  8. 17.  9.]\n",
            " [ 7.  7. 15.  8. 17.  9.]]\n"
          ],
          "name": "stdout"
        }
      ]
    },
    {
      "cell_type": "code",
      "metadata": {
        "id": "Jt9XbWhXBNhy",
        "outputId": "74ff7947-c2f1-4fb3-cf01-6ce5ad8e3c6d",
        "colab": {
          "base_uri": "https://localhost:8080/"
        }
      },
      "source": [
        "\r\n",
        "\r\n",
        "# print(\"========== Tensorfow Conv2D Results ===============\")\r\n",
        "# # tf_opreation2_1 = tf.nn.conv2d(np.expand_dims(np.expand_dims(matrix,axis=0),axis=3),\r\n",
        "# #                             np.expand_dims(np.expand_dims(np.rot90(kernel,2),axis=3),axis=4),\r\n",
        "# #                             strides=[1,1,1,1],padding=\"VALID\",\r\n",
        "# #                             dilations=[1,2,2,1])\r\n",
        "# # tf_result = sess.run(tf_opreation2_1)\r\n",
        "# # print(\"Tensorfow Conv2D Results Shape: \",tf_result.shape)\r\n",
        "# # print(np.squeeze(tf_result))\r\n",
        "\r\n",
        "print(\"========== Tensorfow Atrous Conv2D Results ===============\")\r\n",
        "tf_result = tf.nn.atrous_conv2d(np.expand_dims(np.expand_dims(matrix,axis=0),axis=3),\r\n",
        "                                    np.expand_dims(np.expand_dims(np.rot90(kernel,2),axis=2),axis=3),\r\n",
        "                                    rate=2,padding=\"VALID\")\r\n",
        "print(\"Tensorfow Atrous Results Shape: \",tf_result.shape)\r\n",
        "print(np.squeeze(tf_result))\r\n",
        "# ========== EXAMPLE 2 - Dilation Factor 2 ==========="
      ],
      "execution_count": 27,
      "outputs": [
        {
          "output_type": "stream",
          "text": [
            "========== Tensorfow Atrous Conv2D Results ===============\n",
            "Tensorfow Atrous Results Shape:  (1, 6, 6, 1)\n",
            "[[ 1.  1.  3.  2.  5.  3.]\n",
            " [ 5.  5. 12.  7. 16.  9.]\n",
            " [ 4.  4.  9.  5. 11.  6.]\n",
            " [11. 11. 24. 13. 28. 15.]\n",
            " [ 7.  7. 15.  8. 17.  9.]\n",
            " [ 7.  7. 15.  8. 17.  9.]]\n"
          ],
          "name": "stdout"
        }
      ]
    },
    {
      "cell_type": "code",
      "metadata": {
        "id": "buU6EZD0B3gd",
        "outputId": "073cae4d-a7b1-40c8-8394-4e1e0781797b",
        "colab": {
          "base_uri": "https://localhost:8080/"
        }
      },
      "source": [
        "\r\n",
        "\r\n",
        "# ========== EXAMPLE 3 - Dilation Factor 3 ===========\r\n",
        "print(\"\\n====== Dilated Kernel 3 ======\")\r\n",
        "kernel2 = np.array([\r\n",
        "    [1,0,0,2,0,0,3],\r\n",
        "    [0,0,0,0,0,0,0],\r\n",
        "    [0,0,0,0,0,0,0],\r\n",
        "    [4,0,0,5,0,0,6],\r\n",
        "    [0,0,0,0,0,0,0],\r\n",
        "    [0,0,0,0,0,0,0],\r\n",
        "    [7,0,0,8,0,0,9]\r\n",
        "])\r\n",
        "print('Kernal For \"Familiar\" Convolution for Numpy: \\n',kernel2)\r\n",
        "\r\n",
        "print(\"========== Numpy 'familiar' Convolution Results ===============\")\r\n",
        "np_results = convolve2d(matrix,kernel2,mode='valid')\r\n",
        "print(\"Numpy Results Shape: \",np_results.shape)\r\n",
        "print(np_results)\r\n",
        "\r\n",
        "print(\"========== Tensorfow Conv2D Results ===============\")\r\n",
        "tf_opreation4_1 = tf.nn.conv2d(np.expand_dims(np.expand_dims(matrix,axis=0),axis=3),\r\n",
        "                            np.expand_dims(np.expand_dims(np.rot90(kernel,2),axis=2),axis=3),\r\n",
        "                            strides=[1,1,1,1],padding=\"VALID\",\r\n",
        "                            dilations=[1,3,3,1])\r\n",
        "# tf_result = sess.run(tf_opreation4_1)\r\n",
        "print(\"Tensorfow Conv2D Results Shape: \",tf_opreation4_1.shape)\r\n",
        "print(np.squeeze(tf_opreation4_1))\r\n",
        "\r\n",
        "print(\"========== Tensorfow Atrous Conv2D Results ===============\")\r\n",
        "tf_opreation4_2 = tf.nn.atrous_conv2d(np.expand_dims(np.expand_dims(matrix,axis=0),axis=3),\r\n",
        "                                    np.expand_dims(np.expand_dims(np.rot90(kernel,2),axis=2),axis=3),\r\n",
        "                                    rate=3,padding=\"VALID\")\r\n",
        "print(\"Tensorfow Atrous Results Shape: \",tf_opreation4_2.shape)\r\n",
        "print(np.squeeze(tf_opreation4_2))\r\n",
        "# ========== EXAMPLE 3 - Dilation Factor 3 ==========="
      ],
      "execution_count": 28,
      "outputs": [
        {
          "output_type": "stream",
          "text": [
            "\n",
            "====== Dilated Kernel 3 ======\n",
            "Kernal For \"Familiar\" Convolution for Numpy: \n",
            " [[1 0 0 2 0 0 3]\n",
            " [0 0 0 0 0 0 0]\n",
            " [0 0 0 0 0 0 0]\n",
            " [4 0 0 5 0 0 6]\n",
            " [0 0 0 0 0 0 0]\n",
            " [0 0 0 0 0 0 0]\n",
            " [7 0 0 8 0 0 9]]\n",
            "========== Numpy 'familiar' Convolution Results ===============\n",
            "Numpy Results Shape:  (4, 4)\n",
            "[[4. 5. 5. 5.]\n",
            " [4. 5. 5. 5.]\n",
            " [4. 5. 5. 5.]\n",
            " [7. 8. 8. 8.]]\n",
            "========== Tensorfow Conv2D Results ===============\n",
            "Tensorfow Conv2D Results Shape:  (1, 4, 4, 1)\n",
            "[[4. 5. 5. 5.]\n",
            " [4. 5. 5. 5.]\n",
            " [4. 5. 5. 5.]\n",
            " [7. 8. 8. 8.]]\n",
            "========== Tensorfow Atrous Conv2D Results ===============\n",
            "Tensorfow Atrous Results Shape:  (1, 4, 4, 1)\n",
            "[[4. 5. 5. 5.]\n",
            " [4. 5. 5. 5.]\n",
            " [4. 5. 5. 5.]\n",
            " [7. 8. 8. 8.]]\n"
          ],
          "name": "stdout"
        }
      ]
    },
    {
      "cell_type": "code",
      "metadata": {
        "id": "QO9zXIGR46lS",
        "colab": {
          "base_uri": "https://localhost:8080/"
        },
        "outputId": "8d103896-3f83-4e23-f157-32be34e39e79"
      },
      "source": [
        "\n",
        "# ========== EXAMPLE 4 - Dilation Factor 4 ===========\n",
        "print(\"\\n====== Dilated Kernel 3 ======\")\n",
        "kernel2 = np.array([\n",
        "    [1,0,0,0,2,0,0,0,3],\n",
        "    [0,0,0,0,0,0,0,0,0],\n",
        "    [0,0,0,0,0,0,0,0,0],\n",
        "    [0,0,0,0,0,0,0,0,0],\n",
        "    [4,0,0,0,5,0,0,0,6],\n",
        "    [0,0,0,0,0,0,0,0,0],\n",
        "    [0,0,0,0,0,0,0,0,0],\n",
        "    [0,0,0,0,0,0,0,0,0],\n",
        "    [7,0,0,0,8,0,0,0,9]\n",
        "])\n",
        "print('Kernal For \"Familiar\" Convolution for Numpy: \\n',kernel2)\n",
        "\n",
        "print(\"========== Numpy 'familiar' Convolution Results ===============\")\n",
        "np_results = convolve2d(matrix,kernel2,mode='valid')\n",
        "print(\"Numpy Results Shape: \",np_results.shape)\n",
        "print(np_results)\n",
        "\n",
        "print(\"========== Tensorfow Conv2D Results ===============\")\n",
        "tf_opreation4_1 = tf.nn.conv2d(np.expand_dims(np.expand_dims(matrix,axis=0),axis=3),\n",
        "                            np.expand_dims(np.expand_dims(np.rot90(kernel,2),axis=2),axis=3),\n",
        "                            strides=[1,1,1,1],padding=\"VALID\",\n",
        "                            dilations=[1,4,4,1])\n",
        "# tf_result = sess.run(tf_opreation4_1)\n",
        "print(\"Tensorfow Conv2D Results Shape: \",tf_opreation4_1.shape)\n",
        "print(np.squeeze(tf_opreation4_1))\n",
        "\n",
        "print(\"========== Tensorfow Atrous Conv2D Results ===============\")\n",
        "tf_opreation4_2 = tf.nn.atrous_conv2d(np.expand_dims(np.expand_dims(matrix,axis=0),axis=3),\n",
        "                                    np.expand_dims(np.expand_dims(np.rot90(kernel,2),axis=2),axis=3),\n",
        "                                    rate=4,padding=\"VALID\")\n",
        "# tf_result = sess.run(tf_opreation4_2)\n",
        "print(\"Tensorfow Atrous Results Shape: \",tf_opreation4_2.shape)\n",
        "print(np.squeeze(tf_opreation4_2))\n",
        "# ========== EXAMPLE 4 - Dilation Factor 4 ===========\n",
        "\n",
        "\n",
        "\n",
        "\n",
        "\n",
        "# -- end code --"
      ],
      "execution_count": 29,
      "outputs": [
        {
          "output_type": "stream",
          "text": [
            "\n",
            "====== Dilated Kernel 3 ======\n",
            "Kernal For \"Familiar\" Convolution for Numpy: \n",
            " [[1 0 0 0 2 0 0 0 3]\n",
            " [0 0 0 0 0 0 0 0 0]\n",
            " [0 0 0 0 0 0 0 0 0]\n",
            " [0 0 0 0 0 0 0 0 0]\n",
            " [4 0 0 0 5 0 0 0 6]\n",
            " [0 0 0 0 0 0 0 0 0]\n",
            " [0 0 0 0 0 0 0 0 0]\n",
            " [0 0 0 0 0 0 0 0 0]\n",
            " [7 0 0 0 8 0 0 0 9]]\n",
            "========== Numpy 'familiar' Convolution Results ===============\n",
            "Numpy Results Shape:  (2, 2)\n",
            "[[5. 5.]\n",
            " [5. 5.]]\n",
            "========== Tensorfow Conv2D Results ===============\n",
            "Tensorfow Conv2D Results Shape:  (1, 2, 2, 1)\n",
            "[[5. 5.]\n",
            " [5. 5.]]\n",
            "========== Tensorfow Atrous Conv2D Results ===============\n",
            "Tensorfow Atrous Results Shape:  (1, 2, 2, 1)\n",
            "[[5. 5.]\n",
            " [5. 5.]]\n"
          ],
          "name": "stdout"
        }
      ]
    },
    {
      "cell_type": "code",
      "metadata": {
        "id": "buVh63nqDOaQ"
      },
      "source": [
        ""
      ],
      "execution_count": 29,
      "outputs": []
    }
  ]
}